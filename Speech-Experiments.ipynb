{
  "cells": [
    {
      "cell_type": "code",
      "source": [
        "import soundfile as sf\n",
        "import torch\n",
        "import librosa\n",
        "from transformers import Wav2Vec2ForMaskedLM, Wav2Vec2Tokenizer\n",
        "from transformers import Wav2Vec2Tokenizer,Wav2Vec2Processor, Wav2Vec2CTCTokenizer, Wav2Vec2ForCTC\n",
        "import numpy as np\n",
        "from librosa import display\n",
        "import matplotlib.pyplot as plt\n",
        "\n",
        "tokenizer = Wav2Vec2Tokenizer.from_pretrained(\"facebook/wav2vec2-base-960h\")"
      ],
      "outputs": [],
      "execution_count": 18,
      "metadata": {
        "ExecuteTime": {
          "end_time": "2021-03-25T19:24:59.736584Z",
          "start_time": "2021-03-25T19:24:59.710682Z"
        }
      }
    },
    {
      "cell_type": "code",
      "source": [
        "# load pretrained model\n",
        "model = Wav2Vec2ForCTC.from_pretrained(\"D:\\\\Downloads\\\\NeuralNets\\\\wav2vec2-base-960h\")"
      ],
      "outputs": [
        {
          "output_type": "stream",
          "name": "stderr",
          "text": [
            "Some weights of Wav2Vec2ForCTC were not initialized from the model checkpoint at D:\\Downloads\\NeuralNets\\wav2vec2-base-960h and are newly initialized: ['wav2vec2.masked_spec_embed']\n",
            "You should probably TRAIN this model on a down-stream task to be able to use it for predictions and inference.\n"
          ]
        }
      ],
      "execution_count": 14,
      "metadata": {
        "ExecuteTime": {
          "end_time": "2021-03-25T19:23:58.160035Z",
          "start_time": "2021-03-25T19:23:51.356521Z"
        }
      }
    },
    {
      "cell_type": "code",
      "source": [
        "tokenizerL = Wav2Vec2Tokenizer.from_pretrained(\"facebook/wav2vec2-large-960h\")\n",
        "modelL = Wav2Vec2ForCTC.from_pretrained(\"D:\\\\Downloads\\\\NeuralNets\\\\wav2vec2-large-960h\")"
      ],
      "outputs": [
        {
          "output_type": "stream",
          "name": "stderr",
          "text": [
            "Some weights of Wav2Vec2ForCTC were not initialized from the model checkpoint at D:\\Downloads\\NeuralNets\\wav2vec2-large-960h and are newly initialized: ['wav2vec2.masked_spec_embed']\n",
            "You should probably TRAIN this model on a down-stream task to be able to use it for predictions and inference.\n"
          ]
        }
      ],
      "execution_count": 20,
      "metadata": {
        "ExecuteTime": {
          "end_time": "2021-03-25T19:25:54.229044Z",
          "start_time": "2021-03-25T19:25:39.946323Z"
        }
      }
    },
    {
      "cell_type": "code",
      "source": [
        "modelXL = Wav2Vec2ForCTC.from_pretrained(\"D:\\\\Downloads\\\\NeuralNets\\\\wav2vec2-large-960h-lv60-self\")"
      ],
      "outputs": [
        {
          "output_type": "stream",
          "name": "stderr",
          "text": [
            "Some weights of Wav2Vec2ForCTC were not initialized from the model checkpoint at D:\\Downloads\\NeuralNets\\wav2vec2-large-960h-lv60-self and are newly initialized: ['wav2vec2.masked_spec_embed']\n",
            "You should probably TRAIN this model on a down-stream task to be able to use it for predictions and inference.\n"
          ]
        }
      ],
      "execution_count": 6,
      "metadata": {
        "ExecuteTime": {
          "end_time": "2021-03-25T19:21:38.404431Z",
          "start_time": "2021-03-25T19:21:19.858267Z"
        }
      }
    },
    {
      "cell_type": "code",
      "source": [
        "speech, rate = librosa.load(\"D:\\\\Downloads\\\\NeuralNets\\\\deepspeech\\dinobird.wav\",sr=16000)"
      ],
      "outputs": [],
      "execution_count": 7,
      "metadata": {
        "ExecuteTime": {
          "end_time": "2021-03-25T19:21:38.467261Z",
          "start_time": "2021-03-25T19:21:38.406425Z"
        }
      }
    },
    {
      "cell_type": "code",
      "source": [
        "[(x - np.mean(speech[:10])) / np.sqrt(np.var(speech[:10]) + 1e-5) for x in speech[:10]]"
      ],
      "outputs": [
        {
          "output_type": "execute_result",
          "execution_count": 8,
          "data": {
            "text/plain": "[-0.0019298710948572853,\n -0.0019298710948572853,\n -0.0019298710948572853,\n -0.0019298710948572853,\n -0.021228582187216738,\n 0.017368839134782574,\n -0.01157922685671691,\n 0.017368839134782574,\n -0.021228582187216738,\n 0.0270181944652824]"
          },
          "metadata": {}
        }
      ],
      "execution_count": 8,
      "metadata": {
        "ExecuteTime": {
          "end_time": "2021-03-25T19:21:38.483219Z",
          "start_time": "2021-03-25T19:21:38.468260Z"
        }
      }
    },
    {
      "cell_type": "code",
      "source": [
        "librosa.display.waveplot(y=speech)"
      ],
      "outputs": [
        {
          "output_type": "execute_result",
          "execution_count": 9,
          "data": {
            "text/plain": "<matplotlib.collections.PolyCollection at 0x20dd9cf3760>"
          },
          "metadata": {}
        },
        {
          "output_type": "display_data",
          "data": {
            "image/png": "[encoded data removed]",
            "text/plain": "<Figure size 432x288 with 1 Axes>"
          },
          "metadata": {
            "needs_background": "light"
          }
        }
      ],
      "execution_count": 9,
      "metadata": {
        "ExecuteTime": {
          "end_time": "2021-03-25T19:21:38.703941Z",
          "start_time": "2021-03-25T19:21:38.485216Z"
        }
      }
    },
    {
      "cell_type": "code",
      "source": [
        "librosa.effects.split(speech, top_db = 40)"
      ],
      "outputs": [
        {
          "output_type": "execute_result",
          "execution_count": 10,
          "data": {
            "text/plain": "array([[  6144,  50688],\n       [ 56832,  74240],\n       [ 75776,  92672],\n       [ 98304, 136704]])"
          },
          "metadata": {}
        }
      ],
      "execution_count": 10,
      "metadata": {
        "ExecuteTime": {
          "end_time": "2021-03-25T19:21:38.719937Z",
          "start_time": "2021-03-25T19:21:38.705975Z"
        }
      }
    },
    {
      "cell_type": "code",
      "source": [
        "input_values = tokenizer(speech, return_tensors = 'pt').input_values\n",
        "\n",
        "#Store logits (non-normalized predictions)\n",
        "logits = model(input_values).logits\n",
        "\n",
        "#Store predicted id's\n",
        "predicted_ids = torch.argmax(logits, dim =-1)\n",
        "\n",
        "#decode the audio to generate text\n",
        "transcript = tokenizer.decode(predicted_ids[0])"
      ],
      "outputs": [],
      "execution_count": 21,
      "metadata": {
        "ExecuteTime": {
          "end_time": "2021-03-25T19:25:55.423708Z",
          "start_time": "2021-03-25T19:25:54.230040Z"
        }
      }
    },
    {
      "cell_type": "code",
      "source": [
        "transcript"
      ],
      "outputs": [
        {
          "output_type": "execute_result",
          "execution_count": 23,
          "data": {
            "text/plain": "'ARCHIOP TEREXS THE DYNASOL IS KNOWN AS THE ARCHIOP TYREXS'"
          },
          "metadata": {}
        }
      ],
      "execution_count": 23,
      "metadata": {
        "ExecuteTime": {
          "end_time": "2021-03-25T19:26:00.032273Z",
          "start_time": "2021-03-25T19:26:00.012846Z"
        }
      }
    },
    {
      "cell_type": "code",
      "source": [
        "input_values = tokenizer(speech, return_tensors = 'pt').input_values\n",
        "\n",
        "#Store logits (non-normalized predictions)\n",
        "logits = modelL(input_values).logits\n",
        "\n",
        "#Store predicted id's\n",
        "predicted_ids = torch.argmax(logits, dim =-1)\n",
        "\n",
        "#decode the audio to generate text\n",
        "tokenizerL.decode(predicted_ids[0])"
      ],
      "outputs": [
        {
          "output_type": "execute_result",
          "execution_count": 22,
          "data": {
            "text/plain": "'ARCHIOPTERIX THE DYNUSO IS KNOWN AS THE ARCHIOPTEREX'"
          },
          "metadata": {}
        }
      ],
      "execution_count": 22,
      "metadata": {
        "ExecuteTime": {
          "end_time": "2021-03-25T19:25:58.877633Z",
          "start_time": "2021-03-25T19:25:56.340215Z"
        }
      }
    },
    {
      "cell_type": "code",
      "source": [
        "input_values = tokenizer(speech, return_tensors = 'pt').input_values\n",
        "\n",
        "#Store logits (non-normalized predictions)\n",
        "logits = modelXL(input_values).logits\n",
        "\n",
        "#Store predicted id's\n",
        "predicted_ids = torch.argmax(logits, dim =-1)\n",
        "\n",
        "#decode the audio to generate text\n",
        "tokenizer.decode(predicted_ids[0])"
      ],
      "outputs": [
        {
          "output_type": "execute_result",
          "execution_count": 24,
          "data": {
            "text/plain": "'ARCHEOPTERIC THE DINOSAUR IS KNOWN AS THE ARCHEOPTERI'"
          },
          "metadata": {}
        }
      ],
      "execution_count": 24,
      "metadata": {
        "ExecuteTime": {
          "end_time": "2021-03-25T19:26:05.156223Z",
          "start_time": "2021-03-25T19:26:01.301577Z"
        }
      }
    },
    {
      "cell_type": "code",
      "source": [
        "import onnx\n",
        "from onnxruntime.quantization import quantize_dynamic\n",
        "from pathlib import Path"
      ],
      "outputs": [],
      "execution_count": null,
      "metadata": {
        "ExecuteTime": {
          "start_time": "2021-03-25T19:20:05.660Z"
        }
      }
    },
    {
      "cell_type": "code",
      "source": [
        "_ = torch.onnx.export(\n",
        "        modelXL,\n",
        "        input_values,\n",
        "        \"D:\\\\Downloads\\\\NeuralNets\\\\wav2vec2-large-960h-lv60-self\\\\wav2vec2-large-960h-lv60-self.onnx\",\n",
        "        export_params=True,\n",
        "        opset_version=12,\n",
        "        input_names=['input_values'],\n",
        "        output_names=['logits'],\n",
        "        dynamic_axes={\n",
        "           'input_values': {0:'batch',1:'sequence'},\n",
        "           'logits': {0: 'batch',1:'sequence'}})"
      ],
      "outputs": [],
      "execution_count": null,
      "metadata": {
        "ExecuteTime": {
          "start_time": "2021-03-25T19:20:05.662Z"
        }
      }
    },
    {
      "cell_type": "code",
      "source": [
        "quantize_dynamic(\"D:\\\\Downloads\\\\NeuralNets\\\\wav2vec2-large-960h-lv60-self\\\\wav2vec2-large-960h-lv60-self.onnx\", \"D:\\\\Downloads\\\\NeuralNets\\\\wav2vec2-large-960h-lv60-self\\\\wav2vec2-large-960h-lv60-self-quantized.onnx\")"
      ],
      "outputs": [],
      "execution_count": null,
      "metadata": {
        "ExecuteTime": {
          "start_time": "2021-03-25T19:20:05.663Z"
        }
      }
    }
  ],
  "metadata": {
    "kernelspec": {
      "display_name": "Python 3",
      "language": "python",
      "name": "python3"
    },
    "toc": {
      "toc_position": {},
      "skip_h1_title": false,
      "number_sections": true,
      "title_cell": "Table of Contents",
      "toc_window_display": false,
      "base_numbering": 1,
      "toc_section_display": true,
      "title_sidebar": "Contents",
      "toc_cell": false,
      "nav_menu": {},
      "sideBar": true
    },
    "nteract": {
      "version": "0.26.0"
    }
  },
  "nbformat": 4,
  "nbformat_minor": 4
}